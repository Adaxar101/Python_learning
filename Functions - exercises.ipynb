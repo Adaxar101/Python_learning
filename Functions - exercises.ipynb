{
 "cells": [
  {
   "cell_type": "code",
   "execution_count": 1,
   "metadata": {},
   "outputs": [],
   "source": [
    "#Given two int values, return their sum. Unless the two values are the same, then return double their sum.\n",
    "def sum_double(a, b):\n",
    "  if a != b:\n",
    "    return a + b\n",
    "  else:\n",
    "    return 2*(a+b)"
   ]
  },
  {
   "cell_type": "code",
   "execution_count": null,
   "metadata": {},
   "outputs": [],
   "source": [
    "#The parameter weekday is True if it is a weekday, and the parameter vacation is True if we are on vacation. \n",
    "#We sleep in if it is not a weekday or we're on vacation. Return True if we sleep in.\n",
    "def sleep_in(weekday, vacation):\n",
    "  if not weekday or vacation:\n",
    "    return True\n",
    "  else:\n",
    "    return False"
   ]
  },
  {
   "cell_type": "code",
   "execution_count": 2,
   "metadata": {},
   "outputs": [],
   "source": [
    "#We have two monkeys, a and b, and the parameters a_smile and b_smile indicate if each is smiling. \n",
    "#We are in trouble if they are both smiling or if neither of them is smiling. Return True if we are in trouble.\n",
    "def monkey_trouble(a_smile, b_smile):\n",
    "  if a_smile and b_smile:\n",
    "    return True\n",
    "  elif not a_smile and not b_smile:\n",
    "    return True\n",
    "  else:\n",
    "    return False"
   ]
  },
  {
   "cell_type": "code",
   "execution_count": null,
   "metadata": {},
   "outputs": [],
   "source": [
    "#Given an int n, return the absolute difference between n and 21, except return double the absolute difference if n is over 21.\n",
    "def diff21(n):\n",
    "  if 21-n >= 0:\n",
    "    return 21-n\n",
    "  else:\n",
    "    return -2*(21-n)\n"
   ]
  },
  {
   "cell_type": "code",
   "execution_count": null,
   "metadata": {},
   "outputs": [],
   "source": [
    "#We have a loud talking parrot. The \"hour\" parameter is the current hour time in the range 0..23. \n",
    "#We are in trouble if the parrot is talking and the hour is before 7 or after 20. Return True if we are in trouble.\n",
    "def parrot_trouble(talking, hour):\n",
    "  return (talking and (hour < 7 or hour > 20))\n"
   ]
  },
  {
   "cell_type": "code",
   "execution_count": null,
   "metadata": {},
   "outputs": [],
   "source": [
    "#Given 2 ints, a and b, return True if one if them is 10 or if their sum is 10.\n",
    "def makes10(a, b):\n",
    "  return(a==10 or b==10 or a+b==10)\n"
   ]
  },
  {
   "cell_type": "code",
   "execution_count": null,
   "metadata": {},
   "outputs": [],
   "source": [
    "#Given an int n, return True if it is within 10 of 100 or 200. Note: abs(num) computes the absolute value of a number.\n",
    "def near_hundred(n):\n",
    "  return(abs(100-n)<=10 or abs(200-n) <= 10)\n"
   ]
  },
  {
   "cell_type": "code",
   "execution_count": null,
   "metadata": {},
   "outputs": [],
   "source": [
    "#Given 2 int values, return True if one is negative and one is positive. \n",
    "#Except if the parameter \"negative\" is True, then return True only if both are negative.\n",
    "\n",
    "\n",
    "def pos_neg(a, b, negative):\n",
    "    if negative:\n",
    "    return (a < 0 and b < 0)\n",
    "  else:\n",
    "    return ((a < 0 and b > 0) or (a > 0 and b < 0))\n",
    "    \n",
    "    \n",
    "    def pos_neg(a, b, negative):\n",
    "    if a > 0 and b < 0:\n",
    "    return True\n",
    "  elif a < 0 and b > 0:\n",
    "    return True\n",
    "  elif a<0 and b<0 and negative:\n",
    "    return True\n",
    "  else:\n",
    "    return False\n"
   ]
  },
  {
   "cell_type": "code",
   "execution_count": null,
   "metadata": {},
   "outputs": [],
   "source": [
    "#Given a string, return a new string where \"not \" has been added to the front. \n",
    "#However, if the string already begins with \"not\", return the string unchanged.\n",
    "def not_string(str):\n",
    "    if len(str) >= 3 and str[:3] == \"not\":\n",
    "    return str\n",
    "  else:\n",
    "    return 'not ' + str\n"
   ]
  },
  {
   "cell_type": "code",
   "execution_count": null,
   "metadata": {},
   "outputs": [],
   "source": [
    "#Given a non-empty string and an int n, return a new string where the char at index n has been removed. \n",
    "#The value of n will be a valid index of a char in the original string (i.e. n will be in the range 0..len(str)-1 inclusive).\n",
    "\n"
   ]
  },
  {
   "cell_type": "code",
   "execution_count": null,
   "metadata": {},
   "outputs": [],
   "source": [
    "#write function that prints the string 'Hello World'\n",
    "def myfunc():\n",
    "    print('Hello World')"
   ]
  },
  {
   "cell_type": "code",
   "execution_count": null,
   "metadata": {},
   "outputs": [],
   "source": [
    "#function that takes in a name, and prints 'Hello Name'\n",
    "def myfunc(name):\n",
    "    print('Hello ' + name)"
   ]
  },
  {
   "cell_type": "code",
   "execution_count": null,
   "metadata": {},
   "outputs": [],
   "source": [
    "#funciton, if True returns \"hello', if False return 'Goodbye'\"\n",
    "def myfunc(a):\n",
    "    if a == True:\n",
    "        return 'Hello'\n",
    "    else: \n",
    "        return 'Goodbye'"
   ]
  },
  {
   "cell_type": "code",
   "execution_count": null,
   "metadata": {},
   "outputs": [],
   "source": [
    "#define function that takes 3 arguments x,y,z. if is True, return x, if z i False return y\n",
    "def myfunc(x,y,z):\n",
    "    if z== True:\n",
    "        return x\n",
    "    else:\n",
    "        return y"
   ]
  },
  {
   "cell_type": "code",
   "execution_count": null,
   "metadata": {},
   "outputs": [],
   "source": [
    "#define function that takes in two arguments and return their sum\n",
    "def myfunc(a,b):\n",
    "    return a + b"
   ]
  },
  {
   "cell_type": "code",
   "execution_count": null,
   "metadata": {},
   "outputs": [],
   "source": [
    "#define function 'is_even' that takes in one argument, and returns TRUE if the passed in value is even, FALSE if it is ni\n",
    "def is_even(a):\n",
    "    if a%2 == 0:\n",
    "        return True\n",
    "    else: \n",
    "        return False"
   ]
  },
  {
   "cell_type": "code",
   "execution_count": null,
   "metadata": {},
   "outputs": [],
   "source": [
    "#def 'is_greater\" that takes in two arguemnts, and returns True if the firts vvalue is greater than the second, \n",
    "#False if it is less than or equal to the second'\n",
    "def is_greater(a,b):\n",
    "    if a>b:\n",
    "        return True\n",
    "    else:\n",
    "        return False"
   ]
  },
  {
   "cell_type": "code",
   "execution_count": null,
   "metadata": {},
   "outputs": [],
   "source": [
    "#write a function that takes a two-word string and return if True if both of them begins with same letter"
   ]
  },
  {
   "cell_type": "code",
   "execution_count": 28,
   "metadata": {},
   "outputs": [],
   "source": [
    "def animal_crackers(text):\n",
    "    mylist = text.split()\n",
    "    print(mylist)\n",
    "#wybranie pierwszego i drugiego słowa\n",
    "    first_word = mylist[0]\n",
    "    second_word = mylist[1]\n",
    "#wybranie pierwszej litery z pierwszego słowa\n",
    "    first_word_letter = first_word[0]\n",
    "#wybranie pierwszej litery z drugiego słowa\n",
    "    second_word_letter = second_word[0]\n",
    "#warunek\n",
    "    if first_word_letter == second_word_letter:\n",
    "        return True\n",
    "    else:\n",
    "        return False"
   ]
  },
  {
   "cell_type": "code",
   "execution_count": 30,
   "metadata": {},
   "outputs": [
    {
     "name": "stdout",
     "output_type": "stream",
     "text": [
      "['Ala', 'Aot']\n"
     ]
    },
    {
     "data": {
      "text/plain": [
       "True"
      ]
     },
     "execution_count": 30,
     "metadata": {},
     "output_type": "execute_result"
    }
   ],
   "source": [
    "animal_crackers(\"Ala Aot\")"
   ]
  },
  {
   "cell_type": "code",
   "execution_count": 34,
   "metadata": {},
   "outputs": [],
   "source": [
    "#Given two integers, return True if the sum of the integers is 20 or if one of the integers is 20. If not, return False\n",
    "def makes_twenty(n1,n2):\n",
    "    #suma liczb\n",
    "    both = n1+n2\n",
    "    if both==20 or n1==20 or n2==20:\n",
    "        return True\n",
    "    else:\n",
    "        return False\n",
    "    \n",
    "    \n",
    "#inny sposób: return (n1+n2) == 20 or n1==2- or n2==20"
   ]
  },
  {
   "cell_type": "code",
   "execution_count": 37,
   "metadata": {},
   "outputs": [
    {
     "data": {
      "text/plain": [
       "False"
      ]
     },
     "execution_count": 37,
     "metadata": {},
     "output_type": "execute_result"
    }
   ],
   "source": [
    "makes_twenty(7,9)"
   ]
  },
  {
   "cell_type": "code",
   "execution_count": 7,
   "metadata": {},
   "outputs": [],
   "source": [
    "#OLD MACDONALD: Write a function that capitalizes the first and fourth letters of a name\n",
    "#old_macdonald('macdonald') --> MacDonald\n",
    "#Note: 'macdonald'.capitalize() returns 'Macdonald'\n",
    "def old_macdonald(name):\n",
    "    #pierwsza litera\n",
    "    first_letter = name[0]\n",
    "    another_letter = name[1:3]\n",
    "    #czwarta litera \n",
    "    fourth_letter = name[3]\n",
    "    another2_letter = name[4:]\n",
    "   \n",
    "    return first_letter.upper() + another_letter + fourth_letter.upper() + another2_letter"
   ]
  },
  {
   "cell_type": "code",
   "execution_count": 8,
   "metadata": {},
   "outputs": [
    {
     "data": {
      "text/plain": [
       "'MacDonald'"
      ]
     },
     "execution_count": 8,
     "metadata": {},
     "output_type": "execute_result"
    }
   ],
   "source": [
    "old_macdonald('macdonald')"
   ]
  },
  {
   "cell_type": "code",
   "execution_count": 21,
   "metadata": {},
   "outputs": [],
   "source": [
    "#drugi sposób MacDonald\n",
    "def old_macdonald(name):\n",
    "    first_half = name[:3]\n",
    "    second_half = name[3:]\n",
    "    \n",
    "    return first_half.capitalize() + second_half.capitalize()"
   ]
  },
  {
   "cell_type": "code",
   "execution_count": 10,
   "metadata": {},
   "outputs": [],
   "source": [
    "#MASTER YODA: Given a sentence, return a sentence with the words reversed\n",
    "#master_yoda('I am home') --> 'home am I'\n",
    "#master_yoda('We are ready') --> 'ready are We'\n",
    "def master_yoda(text):\n",
    "    \n",
    "    mylist = text.split()\n",
    "    #pierwsze słowo\n",
    "   # first_word = mylist0[0]\n",
    "    #ostatnie słowo\n",
    "    #last_word = mylist[-1]\n",
    "    \n",
    "    space = \" \".join([text])\n",
    "    \n",
    "    reverse = mylist.reverse()\n",
    "    print(reverse)\n",
    "    "
   ]
  },
  {
   "cell_type": "code",
   "execution_count": 11,
   "metadata": {},
   "outputs": [
    {
     "name": "stdout",
     "output_type": "stream",
     "text": [
      "None\n"
     ]
    }
   ],
   "source": [
    "master_yoda('I am')"
   ]
  },
  {
   "cell_type": "code",
   "execution_count": 74,
   "metadata": {},
   "outputs": [],
   "source": [
    "def master_yoda(text):\n",
    "    \n",
    "    mylist = text.split()\n",
    "    #list1[begin:end:step]\n",
    "    reverse = mylist[::-1]\n",
    "    space = \" \".join(reverse)\n",
    "    print(space)\n",
    "    #return '  '.join(reverse)"
   ]
  },
  {
   "cell_type": "code",
   "execution_count": 75,
   "metadata": {},
   "outputs": [
    {
     "name": "stdout",
     "output_type": "stream",
     "text": [
      "am I\n"
     ]
    }
   ],
   "source": [
    "master_yoda('I am')"
   ]
  },
  {
   "cell_type": "code",
   "execution_count": 52,
   "metadata": {},
   "outputs": [],
   "source": [
    "#ALMOST THERE: Given an integer n, return True if n is within 10 of either 100 or 200\n",
    "#almost_there(90) --> True\n",
    "#almost_there(104) --> True\n",
    "#almost_there(150) --> False\n",
    "#almost_there(209) --> True\n",
    "\n",
    "def almost_there(n):\n",
    "    if abs(n-100) <= 10:\n",
    "        return True\n",
    "    elif abs(n-200) <= 10:\n",
    "        return True\n",
    "    else:\n",
    "        return False"
   ]
  },
  {
   "cell_type": "code",
   "execution_count": 54,
   "metadata": {},
   "outputs": [
    {
     "data": {
      "text/plain": [
       "False"
      ]
     },
     "execution_count": 54,
     "metadata": {},
     "output_type": "execute_result"
    }
   ],
   "source": [
    "almost_there(1550)"
   ]
  },
  {
   "cell_type": "code",
   "execution_count": 91,
   "metadata": {},
   "outputs": [],
   "source": [
    "#FIND 33:\n",
    "#Given a list of ints, return True if the array contains a 3 next to a 3 somewhere.\n",
    "#has_33([1, 3, 3]) → True\n",
    "#has_33([1, 3, 1, 3]) → False\n",
    "#has_33([3, 1, 3]) → False\n",
    "def has_33(nums):\n",
    "    for i in range(0, len(nums)-1):\n",
    "        if nums[i] == 3 and nums[i+1] == 3:\n",
    "            return True\n",
    "    return False"
   ]
  },
  {
   "cell_type": "code",
   "execution_count": 92,
   "metadata": {},
   "outputs": [
    {
     "data": {
      "text/plain": [
       "False"
      ]
     },
     "execution_count": 92,
     "metadata": {},
     "output_type": "execute_result"
    }
   ],
   "source": [
    "has_33([3, 1, 3])"
   ]
  },
  {
   "cell_type": "code",
   "execution_count": 109,
   "metadata": {},
   "outputs": [],
   "source": [
    "#PAPER DOLL: Given a string, return a string where for every character in the original there are three characters\n",
    "#paper_doll('Hello') --> 'HHHeeellllllooo'\n",
    "#paper_doll('Mississippi') --> 'MMMiiissssssiiippppppiii'\n",
    "def paper_doll(text):\n",
    "    result = ''                                  #ważne!!!!!!!!!!!!!!!!!!!!!!!!!!!11\n",
    "    \n",
    "    for char in text:\n",
    "        result += char*3\n",
    "    return result\n",
    "    \n"
   ]
  },
  {
   "cell_type": "code",
   "execution_count": null,
   "metadata": {},
   "outputs": [],
   "source": [
    "#BLACKJACK: Given three integers between 1 and 11, if their sum is less than or equal to 21, \n",
    "#return their sum. If their sum exceeds 21 and there's an eleven, reduce the total sum by 10. \n",
    "#Finally, if the sum (even after adjustment) exceeds 21, return 'BUST'\n",
    "#blackjack(5,6,7) --> 18\n",
    "#blackjack(9,9,9) --> 'BUST'\n",
    "#blackjack(9,9,11) --> 19"
   ]
  },
  {
   "cell_type": "code",
   "execution_count": 142,
   "metadata": {},
   "outputs": [],
   "source": [
    "def blackjack(a,b,c):\n",
    "    a == range(0,12) \n",
    "    b == range(0,12)\n",
    "    c == range(0,12)\n",
    "    suma = sum([a,b,c])\n",
    "    #pierwszy warunek\n",
    "    if suma <= 21:\n",
    "        return suma\n",
    "    #drugi warunek\n",
    "    elif suma > 21 and (a==11 or b==11 or c==11):        #elif 11 in [a,b,c] and suma>21\n",
    "        return suma-10\n",
    "    #trzeci warunek\n",
    "    else:\n",
    "        return 'BUST'"
   ]
  },
  {
   "cell_type": "code",
   "execution_count": 143,
   "metadata": {},
   "outputs": [
    {
     "data": {
      "text/plain": [
       "'BUST'"
      ]
     },
     "execution_count": 143,
     "metadata": {},
     "output_type": "execute_result"
    }
   ],
   "source": [
    "blackjack(9,9,9)"
   ]
  },
  {
   "cell_type": "code",
   "execution_count": 147,
   "metadata": {},
   "outputs": [],
   "source": [
    "#SUMMER OF '69: Return the sum of the numbers in the array, except ignore sections of numbers starting \n",
    "#with a 6 and extending to the next 9 (every 6 will be followed by at least one 9). Return 0 for no numbers.\n",
    "#summer_69([1, 3, 5]) --> 9\n",
    "#summer_69([4, 5, 6, 7, 8, 9]) --> 9\n",
    "#summer_69([2, 1, 6, 9, 11]) --> 14\n",
    "def summer_69(arr):\n",
    "    total = 0\n",
    "    add = True\n",
    "    \n",
    "    for num in arr:\n",
    "        while add:\n",
    "            if num!=6:\n",
    "                total +-num\n",
    "                break\n",
    "            else:\n",
    "                add = False\n",
    "        while not add:\n",
    "            if num != 9:\n",
    "                break\n",
    "            else:\n",
    "                add = True\n",
    "                break\n",
    "    return total \n",
    "    \n",
    "\n"
   ]
  },
  {
   "cell_type": "code",
   "execution_count": 150,
   "metadata": {},
   "outputs": [
    {
     "data": {
      "text/plain": [
       "0"
      ]
     },
     "execution_count": 150,
     "metadata": {},
     "output_type": "execute_result"
    }
   ],
   "source": [
    "summer_69([1,2,6,7,8])"
   ]
  },
  {
   "cell_type": "code",
   "execution_count": 152,
   "metadata": {},
   "outputs": [],
   "source": [
    "#SPY GAME: Write a function that takes in a list of integers and returns True if it contains 007 in order\n",
    "# spy_game([1,2,4,0,0,7,5]) --> True\n",
    "# spy_game([1,0,2,4,0,5,7]) --> True\n",
    "# spy_game([1,7,2,0,4,5,0]) --> False\n",
    "def spy_game(nums):\n",
    "    #stworzenie codu\n",
    "    code = [0,0,7,'x']         #'x' - dodatkowy ciąg liczb\n",
    "                                #zamierzamy przejść przez każdy wyraz ciągu\n",
    "    for num in nums:\n",
    "        if num == code[0]:     #sprawdzam czy liczba z ciągu równa się pierwszej pozycji z CODE czyli 0\n",
    "            code.pop(0)     # jeśli tak to usuwamy pierwszą pozycje z CODE i sprawdamy dalej\n",
    "    #czyli sprawdza czy jak natrafię na 0 to pop(wyskakuje) 0, wiec kolejna iteracja wygląda tak:\n",
    "    # [0,7,'x']\n",
    "    # [7,'x']\n",
    "    # ['x']   length = 1\n",
    "    return len(code) == 1   "
   ]
  },
  {
   "cell_type": "code",
   "execution_count": null,
   "metadata": {},
   "outputs": [],
   "source": [
    "#COUNT PRIMES: Write a function that returns the number of prime numbers that exist up to and including a given number\n",
    "#count_primes(100) --> 25\n",
    "#By convention, 0 and 1 are not prime.\n",
    "def count_primes(num):\n",
    "    \n",
    "    #check for 0 and 1\n",
    "    if num < 2:\n",
    "        return 0\n",
    "    ###########\n",
    "    # 2 or greater\n",
    "    ############\n",
    "    \n",
    "    #store our prime numbers\n",
    "    primes = [2]\n",
    "    # counter going up to the input num\n",
    "    x = 3 \n",
    "    \n",
    "# x is going through every number up to ipnut num\n",
    "    while x <= num:\n",
    "        # chek if x is prime\n",
    "        for y in range(3,x,2):     #dajemy krok co '2' ponieważ parzyste liczby nie są liczbami pierwszymi, więc je wykluczmy\n",
    "            if x%y == 0:\n",
    "                x += 2    #zwiększona liczba o 2 (nieparzyste)\n",
    "                break\n",
    "# sprawdzenie czy X jest liczbąpierwsza, poniewaz przechodzi przez kadą liczbę z zakresu od 3 do x, krok co 2\n",
    "        else:\n",
    "            primes.append(x)        #chcemy wziąć liste pierwszych liczb i dopiszemy do niej x\n",
    "            x += 2\n",
    "    print(primes)\n",
    "    return len(primes)\n",
    "    "
   ]
  },
  {
   "cell_type": "code",
   "execution_count": null,
   "metadata": {},
   "outputs": [],
   "source": []
  },
  {
   "cell_type": "code",
   "execution_count": null,
   "metadata": {},
   "outputs": [],
   "source": []
  }
 ],
 "metadata": {
  "kernelspec": {
   "display_name": "Python 3",
   "language": "python",
   "name": "python3"
  },
  "language_info": {
   "codemirror_mode": {
    "name": "ipython",
    "version": 3
   },
   "file_extension": ".py",
   "mimetype": "text/x-python",
   "name": "python",
   "nbconvert_exporter": "python",
   "pygments_lexer": "ipython3",
   "version": "3.7.1"
  }
 },
 "nbformat": 4,
 "nbformat_minor": 2
}
